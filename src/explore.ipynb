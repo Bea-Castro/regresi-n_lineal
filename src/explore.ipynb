{
    "cells": [
        {
            "cell_type": "markdown",
            "metadata": {},
            "source": [
                "# Explore here"
            ]
        },
        {
            "cell_type": "code",
            "execution_count": 1,
            "metadata": {},
            "outputs": [
                {
                    "name": "stdout",
                    "output_type": "stream",
                    "text": [
                        "Defaulting to user installation because normal site-packages is not writeable\n",
                        "Requirement already satisfied: pandas in /home/vscode/.local/lib/python3.10/site-packages (2.2.3)\n",
                        "Requirement already satisfied: numpy>=1.22.4 in /home/vscode/.local/lib/python3.10/site-packages (from pandas) (2.2.2)\n",
                        "Requirement already satisfied: python-dateutil>=2.8.2 in /home/vscode/.local/lib/python3.10/site-packages (from pandas) (2.9.0.post0)\n",
                        "Requirement already satisfied: pytz>=2020.1 in /home/vscode/.local/lib/python3.10/site-packages (from pandas) (2025.1)\n",
                        "Requirement already satisfied: tzdata>=2022.7 in /home/vscode/.local/lib/python3.10/site-packages (from pandas) (2025.1)\n",
                        "Requirement already satisfied: six>=1.5 in /home/vscode/.local/lib/python3.10/site-packages (from python-dateutil>=2.8.2->pandas) (1.17.0)\n",
                        "Defaulting to user installation because normal site-packages is not writeable\n",
                        "Requirement already satisfied: matplotlib in /home/vscode/.local/lib/python3.10/site-packages (3.10.0)\n",
                        "Requirement already satisfied: contourpy>=1.0.1 in /home/vscode/.local/lib/python3.10/site-packages (from matplotlib) (1.3.1)\n",
                        "Requirement already satisfied: cycler>=0.10 in /home/vscode/.local/lib/python3.10/site-packages (from matplotlib) (0.12.1)\n",
                        "Requirement already satisfied: fonttools>=4.22.0 in /home/vscode/.local/lib/python3.10/site-packages (from matplotlib) (4.55.8)\n",
                        "Requirement already satisfied: kiwisolver>=1.3.1 in /home/vscode/.local/lib/python3.10/site-packages (from matplotlib) (1.4.8)\n",
                        "Requirement already satisfied: numpy>=1.23 in /home/vscode/.local/lib/python3.10/site-packages (from matplotlib) (2.2.2)\n",
                        "Requirement already satisfied: packaging>=20.0 in /home/vscode/.local/lib/python3.10/site-packages (from matplotlib) (24.2)\n",
                        "Requirement already satisfied: pillow>=8 in /home/vscode/.local/lib/python3.10/site-packages (from matplotlib) (11.1.0)\n",
                        "Requirement already satisfied: pyparsing>=2.3.1 in /home/vscode/.local/lib/python3.10/site-packages (from matplotlib) (3.2.1)\n",
                        "Requirement already satisfied: python-dateutil>=2.7 in /home/vscode/.local/lib/python3.10/site-packages (from matplotlib) (2.9.0.post0)\n",
                        "Requirement already satisfied: six>=1.5 in /home/vscode/.local/lib/python3.10/site-packages (from python-dateutil>=2.7->matplotlib) (1.17.0)\n",
                        "Defaulting to user installation because normal site-packages is not writeable\n",
                        "Requirement already satisfied: seaborn in /home/vscode/.local/lib/python3.10/site-packages (0.13.2)\n",
                        "Requirement already satisfied: numpy!=1.24.0,>=1.20 in /home/vscode/.local/lib/python3.10/site-packages (from seaborn) (2.2.2)\n",
                        "Requirement already satisfied: pandas>=1.2 in /home/vscode/.local/lib/python3.10/site-packages (from seaborn) (2.2.3)\n",
                        "Requirement already satisfied: matplotlib!=3.6.1,>=3.4 in /home/vscode/.local/lib/python3.10/site-packages (from seaborn) (3.10.0)\n",
                        "Requirement already satisfied: contourpy>=1.0.1 in /home/vscode/.local/lib/python3.10/site-packages (from matplotlib!=3.6.1,>=3.4->seaborn) (1.3.1)\n",
                        "Requirement already satisfied: cycler>=0.10 in /home/vscode/.local/lib/python3.10/site-packages (from matplotlib!=3.6.1,>=3.4->seaborn) (0.12.1)\n",
                        "Requirement already satisfied: fonttools>=4.22.0 in /home/vscode/.local/lib/python3.10/site-packages (from matplotlib!=3.6.1,>=3.4->seaborn) (4.55.8)\n",
                        "Requirement already satisfied: kiwisolver>=1.3.1 in /home/vscode/.local/lib/python3.10/site-packages (from matplotlib!=3.6.1,>=3.4->seaborn) (1.4.8)\n",
                        "Requirement already satisfied: packaging>=20.0 in /home/vscode/.local/lib/python3.10/site-packages (from matplotlib!=3.6.1,>=3.4->seaborn) (24.2)\n",
                        "Requirement already satisfied: pillow>=8 in /home/vscode/.local/lib/python3.10/site-packages (from matplotlib!=3.6.1,>=3.4->seaborn) (11.1.0)\n",
                        "Requirement already satisfied: pyparsing>=2.3.1 in /home/vscode/.local/lib/python3.10/site-packages (from matplotlib!=3.6.1,>=3.4->seaborn) (3.2.1)\n",
                        "Requirement already satisfied: python-dateutil>=2.7 in /home/vscode/.local/lib/python3.10/site-packages (from matplotlib!=3.6.1,>=3.4->seaborn) (2.9.0.post0)\n",
                        "Requirement already satisfied: pytz>=2020.1 in /home/vscode/.local/lib/python3.10/site-packages (from pandas>=1.2->seaborn) (2025.1)\n",
                        "Requirement already satisfied: tzdata>=2022.7 in /home/vscode/.local/lib/python3.10/site-packages (from pandas>=1.2->seaborn) (2025.1)\n",
                        "Requirement already satisfied: six>=1.5 in /home/vscode/.local/lib/python3.10/site-packages (from python-dateutil>=2.7->matplotlib!=3.6.1,>=3.4->seaborn) (1.17.0)\n",
                        "Defaulting to user installation because normal site-packages is not writeable\n",
                        "Requirement already satisfied: scikit-learn in /home/vscode/.local/lib/python3.10/site-packages (1.6.1)\n",
                        "Requirement already satisfied: numpy>=1.19.5 in /home/vscode/.local/lib/python3.10/site-packages (from scikit-learn) (2.2.2)\n",
                        "Requirement already satisfied: scipy>=1.6.0 in /home/vscode/.local/lib/python3.10/site-packages (from scikit-learn) (1.15.1)\n",
                        "Requirement already satisfied: joblib>=1.2.0 in /home/vscode/.local/lib/python3.10/site-packages (from scikit-learn) (1.4.2)\n",
                        "Requirement already satisfied: threadpoolctl>=3.1.0 in /home/vscode/.local/lib/python3.10/site-packages (from scikit-learn) (3.5.0)\n",
                        "Defaulting to user installation because normal site-packages is not writeable\n",
                        "Requirement already satisfied: xgboost in /home/vscode/.local/lib/python3.10/site-packages (2.1.3)\n",
                        "Requirement already satisfied: numpy in /home/vscode/.local/lib/python3.10/site-packages (from xgboost) (2.2.2)\n",
                        "Requirement already satisfied: nvidia-nccl-cu12 in /home/vscode/.local/lib/python3.10/site-packages (from xgboost) (2.25.1)\n",
                        "Requirement already satisfied: scipy in /home/vscode/.local/lib/python3.10/site-packages (from xgboost) (1.15.1)\n",
                        "Defaulting to user installation because normal site-packages is not writeable\n",
                        "Requirement already satisfied: statsmodels in /home/vscode/.local/lib/python3.10/site-packages (0.14.4)\n",
                        "Requirement already satisfied: numpy<3,>=1.22.3 in /home/vscode/.local/lib/python3.10/site-packages (from statsmodels) (2.2.2)\n",
                        "Requirement already satisfied: scipy!=1.9.2,>=1.8 in /home/vscode/.local/lib/python3.10/site-packages (from statsmodels) (1.15.1)\n",
                        "Requirement already satisfied: pandas!=2.1.0,>=1.4 in /home/vscode/.local/lib/python3.10/site-packages (from statsmodels) (2.2.3)\n",
                        "Requirement already satisfied: patsy>=0.5.6 in /home/vscode/.local/lib/python3.10/site-packages (from statsmodels) (1.0.1)\n",
                        "Requirement already satisfied: packaging>=21.3 in /home/vscode/.local/lib/python3.10/site-packages (from statsmodels) (24.2)\n",
                        "Requirement already satisfied: python-dateutil>=2.8.2 in /home/vscode/.local/lib/python3.10/site-packages (from pandas!=2.1.0,>=1.4->statsmodels) (2.9.0.post0)\n",
                        "Requirement already satisfied: pytz>=2020.1 in /home/vscode/.local/lib/python3.10/site-packages (from pandas!=2.1.0,>=1.4->statsmodels) (2025.1)\n",
                        "Requirement already satisfied: tzdata>=2022.7 in /home/vscode/.local/lib/python3.10/site-packages (from pandas!=2.1.0,>=1.4->statsmodels) (2025.1)\n",
                        "Requirement already satisfied: six>=1.5 in /home/vscode/.local/lib/python3.10/site-packages (from python-dateutil>=2.8.2->pandas!=2.1.0,>=1.4->statsmodels) (1.17.0)\n"
                    ]
                }
            ],
            "source": [
                "!pip install pandas\n",
                "!pip install matplotlib\n",
                "!pip install seaborn\n",
                "!pip install scikit-learn\n",
                "!pip install xgboost\n",
                "!pip install statsmodels\n"
            ]
        },
        {
            "cell_type": "code",
            "execution_count": 2,
            "metadata": {},
            "outputs": [],
            "source": [
                "import pandas as pd\n",
                "import numpy as np\n",
                "import matplotlib.pyplot as plt\n",
                "import seaborn as sns\n",
                "import statsmodels.api as sm\n",
                "from sklearn.model_selection import train_test_split\n",
                "from statsmodels.tools import add_constant \n",
                "from sklearn.preprocessing import MinMaxScaler\n",
                "import xgboost as xgb\n",
                "from statsmodels.stats.outliers_influence import variance_inflation_factor\n",
                "from sklearn.metrics import mean_absolute_error, mean_squared_error, r2_score, confusion_matrix\n"
            ]
        },
        {
            "cell_type": "code",
            "execution_count": 3,
            "metadata": {},
            "outputs": [
                {
                    "data": {
                        "text/html": [
                            "<div>\n",
                            "<style scoped>\n",
                            "    .dataframe tbody tr th:only-of-type {\n",
                            "        vertical-align: middle;\n",
                            "    }\n",
                            "\n",
                            "    .dataframe tbody tr th {\n",
                            "        vertical-align: top;\n",
                            "    }\n",
                            "\n",
                            "    .dataframe thead th {\n",
                            "        text-align: right;\n",
                            "    }\n",
                            "</style>\n",
                            "<table border=\"1\" class=\"dataframe\">\n",
                            "  <thead>\n",
                            "    <tr style=\"text-align: right;\">\n",
                            "      <th></th>\n",
                            "      <th>age</th>\n",
                            "      <th>sex</th>\n",
                            "      <th>bmi</th>\n",
                            "      <th>children</th>\n",
                            "      <th>smoker</th>\n",
                            "      <th>region</th>\n",
                            "      <th>charges</th>\n",
                            "    </tr>\n",
                            "  </thead>\n",
                            "  <tbody>\n",
                            "    <tr>\n",
                            "      <th>0</th>\n",
                            "      <td>19</td>\n",
                            "      <td>female</td>\n",
                            "      <td>27.900</td>\n",
                            "      <td>0</td>\n",
                            "      <td>yes</td>\n",
                            "      <td>southwest</td>\n",
                            "      <td>16884.92400</td>\n",
                            "    </tr>\n",
                            "    <tr>\n",
                            "      <th>1</th>\n",
                            "      <td>18</td>\n",
                            "      <td>male</td>\n",
                            "      <td>33.770</td>\n",
                            "      <td>1</td>\n",
                            "      <td>no</td>\n",
                            "      <td>southeast</td>\n",
                            "      <td>1725.55230</td>\n",
                            "    </tr>\n",
                            "    <tr>\n",
                            "      <th>2</th>\n",
                            "      <td>28</td>\n",
                            "      <td>male</td>\n",
                            "      <td>33.000</td>\n",
                            "      <td>3</td>\n",
                            "      <td>no</td>\n",
                            "      <td>southeast</td>\n",
                            "      <td>4449.46200</td>\n",
                            "    </tr>\n",
                            "    <tr>\n",
                            "      <th>3</th>\n",
                            "      <td>33</td>\n",
                            "      <td>male</td>\n",
                            "      <td>22.705</td>\n",
                            "      <td>0</td>\n",
                            "      <td>no</td>\n",
                            "      <td>northwest</td>\n",
                            "      <td>21984.47061</td>\n",
                            "    </tr>\n",
                            "    <tr>\n",
                            "      <th>4</th>\n",
                            "      <td>32</td>\n",
                            "      <td>male</td>\n",
                            "      <td>28.880</td>\n",
                            "      <td>0</td>\n",
                            "      <td>no</td>\n",
                            "      <td>northwest</td>\n",
                            "      <td>3866.85520</td>\n",
                            "    </tr>\n",
                            "  </tbody>\n",
                            "</table>\n",
                            "</div>"
                        ],
                        "text/plain": [
                            "   age     sex     bmi  children smoker     region      charges\n",
                            "0   19  female  27.900         0    yes  southwest  16884.92400\n",
                            "1   18    male  33.770         1     no  southeast   1725.55230\n",
                            "2   28    male  33.000         3     no  southeast   4449.46200\n",
                            "3   33    male  22.705         0     no  northwest  21984.47061\n",
                            "4   32    male  28.880         0     no  northwest   3866.85520"
                        ]
                    },
                    "execution_count": 3,
                    "metadata": {},
                    "output_type": "execute_result"
                }
            ],
            "source": [
                "url = 'https://raw.githubusercontent.com/4GeeksAcademy/linear-regression-project-tutorial/main/medical_insurance_cost.csv'\n",
                "df = pd.read_csv(url)\n",
                "pd.set_option('display.max_columns', None)\n",
                "df.head()"
            ]
        },
        {
            "cell_type": "code",
            "execution_count": 4,
            "metadata": {},
            "outputs": [
                {
                    "data": {
                        "text/plain": [
                            "(1338, 7)"
                        ]
                    },
                    "execution_count": 4,
                    "metadata": {},
                    "output_type": "execute_result"
                }
            ],
            "source": [
                "df.shape"
            ]
        },
        {
            "cell_type": "code",
            "execution_count": 5,
            "metadata": {},
            "outputs": [
                {
                    "data": {
                        "text/plain": [
                            "np.int64(1)"
                        ]
                    },
                    "execution_count": 5,
                    "metadata": {},
                    "output_type": "execute_result"
                }
            ],
            "source": [
                "# Comprobamos duplicados\n",
                "df.duplicated().sum()"
            ]
        },
        {
            "cell_type": "code",
            "execution_count": 6,
            "metadata": {},
            "outputs": [],
            "source": [
                "#Eliminamos duplicados\n",
                "df.drop_duplicates(inplace=True)"
            ]
        },
        {
            "cell_type": "code",
            "execution_count": 7,
            "metadata": {},
            "outputs": [
                {
                    "data": {
                        "text/plain": [
                            "age         0\n",
                            "sex         0\n",
                            "bmi         0\n",
                            "children    0\n",
                            "smoker      0\n",
                            "region      0\n",
                            "charges     0\n",
                            "dtype: int64"
                        ]
                    },
                    "execution_count": 7,
                    "metadata": {},
                    "output_type": "execute_result"
                }
            ],
            "source": [
                "# Comprobamos si tenemos valores nulos\n",
                "df.isnull().sum()"
            ]
        },
        {
            "cell_type": "code",
            "execution_count": 8,
            "metadata": {},
            "outputs": [
                {
                    "data": {
                        "text/plain": [
                            "age           47\n",
                            "sex            2\n",
                            "bmi          548\n",
                            "children       6\n",
                            "smoker         2\n",
                            "region         4\n",
                            "charges     1337\n",
                            "dtype: int64"
                        ]
                    },
                    "execution_count": 8,
                    "metadata": {},
                    "output_type": "execute_result"
                }
            ],
            "source": [
                "# Comprobamos si tenemos variables constantes\n",
                "unicos = df.nunique()\n",
                "unicos"
            ]
        },
        {
            "cell_type": "code",
            "execution_count": 9,
            "metadata": {},
            "outputs": [
                {
                    "name": "stdout",
                    "output_type": "stream",
                    "text": [
                        "<class 'pandas.core.frame.DataFrame'>\n",
                        "Index: 1337 entries, 0 to 1337\n",
                        "Data columns (total 7 columns):\n",
                        " #   Column    Non-Null Count  Dtype  \n",
                        "---  ------    --------------  -----  \n",
                        " 0   age       1337 non-null   int64  \n",
                        " 1   sex       1337 non-null   object \n",
                        " 2   bmi       1337 non-null   float64\n",
                        " 3   children  1337 non-null   int64  \n",
                        " 4   smoker    1337 non-null   object \n",
                        " 5   region    1337 non-null   object \n",
                        " 6   charges   1337 non-null   float64\n",
                        "dtypes: float64(2), int64(2), object(3)\n",
                        "memory usage: 83.6+ KB\n"
                    ]
                }
            ],
            "source": [
                "df.info()"
            ]
        },
        {
            "cell_type": "code",
            "execution_count": 10,
            "metadata": {},
            "outputs": [],
            "source": [
                "# Factorizamos las variables categoricas\n",
                "\n",
                "sex_mapped = {'male': 0, 'female': 1}\n",
                "smoker_mapped = {'no': 0, 'yes': 1}\n",
                "region_mapped = {'northwest': 0, 'southeast': 1, 'southwest': 2, 'northeast': 3}\n",
                "\n",
                "df['sex'] = df['sex'].map(sex_mapped)  \n",
                "df['smoker'] = df['smoker'].map(smoker_mapped)\n",
                "df['region'] = df['region'].map(region_mapped)"
            ]
        },
        {
            "cell_type": "code",
            "execution_count": 11,
            "metadata": {},
            "outputs": [
                {
                    "data": {
                        "text/plain": [
                            "<Axes: >"
                        ]
                    },
                    "execution_count": 11,
                    "metadata": {},
                    "output_type": "execute_result"
                },
                {
                    "data": {
                        "image/png": "[encoded data removed]",
                        "text/plain": [
                            "<Figure size 500x500 with 2 Axes>"
                        ]
                    },
                    "metadata": {},
                    "output_type": "display_data"
                }
            ],
            "source": [
                "# Matriz de correlación \n",
                "fig, axes = plt.subplots(figsize =(5,5))\n",
                "sns.heatmap (df[['age', 'sex','bmi','children', 'smoker', 'region','charges']].corr(), annot=True, fmt= '.2f')"
            ]
        },
        {
            "cell_type": "markdown",
            "metadata": {},
            "source": [
                "De la gráfica anterior observamos lo siguiente con respecto a nuestro target:\n",
                "- Existe una alta correlación positiva con la variable fumador. Si es fumador el cargo es más elevado.\n",
                "- Existe correlación positiva no tan elevada con la variable edad. Cuanto más mayor, más alto es el cargo\n",
                "- Existe correlación positiva con el índice masa muscular. A mayor bmi, más alto es el cargo"
            ]
        },
        {
            "cell_type": "code",
            "execution_count": 12,
            "metadata": {},
            "outputs": [
                {
                    "data": {
                        "image/png": "[encoded data removed]",
                        "text/plain": [
                            "<Figure size 640x480 with 1 Axes>"
                        ]
                    },
                    "metadata": {},
                    "output_type": "display_data"
                }
            ],
            "source": [
                "# Identificamos observaciones influyentes\n",
                "\n",
                "X = df.drop(['charges'], axis =1)\n",
                "y = df['charges']\n",
                "X = sm.add_constant(X)\n",
                "model = sm.OLS(y,X).fit()\n",
                "cooks_distance = model.get_influence().cooks_distance\n",
                "\n",
                "plt.scatter(df['charges'], cooks_distance[0])\n",
                "plt.xlabel('X')\n",
                "plt.ylabel('Cooks distance')\n",
                "plt.show()"
            ]
        },
        {
            "cell_type": "code",
            "execution_count": 13,
            "metadata": {},
            "outputs": [
                {
                    "data": {
                        "text/plain": [
                            "97"
                        ]
                    },
                    "execution_count": 13,
                    "metadata": {},
                    "output_type": "execute_result"
                }
            ],
            "source": [
                "# Punto de corte para la distancia de cook\n",
                "pto_corte =4/len(df)\n",
                "\n",
                "#Observacines por encima del punto de corte\n",
                "len(np.where(cooks_distance[0]>pto_corte)[0])"
            ]
        },
        {
            "cell_type": "code",
            "execution_count": 14,
            "metadata": {},
            "outputs": [],
            "source": [
                "# Eliminamos las posiciones que se consideran influyentes\n",
                "df_noinflu = df.drop(np.where(cooks_distance[0]>pto_corte)[0])"
            ]
        },
        {
            "cell_type": "code",
            "execution_count": 15,
            "metadata": {},
            "outputs": [
                {
                    "data": {
                        "text/html": [
                            "<div>\n",
                            "<style scoped>\n",
                            "    .dataframe tbody tr th:only-of-type {\n",
                            "        vertical-align: middle;\n",
                            "    }\n",
                            "\n",
                            "    .dataframe tbody tr th {\n",
                            "        vertical-align: top;\n",
                            "    }\n",
                            "\n",
                            "    .dataframe thead th {\n",
                            "        text-align: right;\n",
                            "    }\n",
                            "</style>\n",
                            "<table border=\"1\" class=\"dataframe\">\n",
                            "  <thead>\n",
                            "    <tr style=\"text-align: right;\">\n",
                            "      <th></th>\n",
                            "      <th>age</th>\n",
                            "      <th>sex</th>\n",
                            "      <th>bmi</th>\n",
                            "      <th>children</th>\n",
                            "      <th>smoker</th>\n",
                            "      <th>region</th>\n",
                            "      <th>charges</th>\n",
                            "    </tr>\n",
                            "  </thead>\n",
                            "  <tbody>\n",
                            "    <tr>\n",
                            "      <th>0</th>\n",
                            "      <td>19</td>\n",
                            "      <td>1</td>\n",
                            "      <td>27.90</td>\n",
                            "      <td>0</td>\n",
                            "      <td>1</td>\n",
                            "      <td>2</td>\n",
                            "      <td>16884.9240</td>\n",
                            "    </tr>\n",
                            "    <tr>\n",
                            "      <th>1</th>\n",
                            "      <td>18</td>\n",
                            "      <td>0</td>\n",
                            "      <td>33.77</td>\n",
                            "      <td>1</td>\n",
                            "      <td>0</td>\n",
                            "      <td>1</td>\n",
                            "      <td>1725.5523</td>\n",
                            "    </tr>\n",
                            "    <tr>\n",
                            "      <th>2</th>\n",
                            "      <td>28</td>\n",
                            "      <td>0</td>\n",
                            "      <td>33.00</td>\n",
                            "      <td>3</td>\n",
                            "      <td>0</td>\n",
                            "      <td>1</td>\n",
                            "      <td>4449.4620</td>\n",
                            "    </tr>\n",
                            "    <tr>\n",
                            "      <th>4</th>\n",
                            "      <td>32</td>\n",
                            "      <td>0</td>\n",
                            "      <td>28.88</td>\n",
                            "      <td>0</td>\n",
                            "      <td>0</td>\n",
                            "      <td>0</td>\n",
                            "      <td>3866.8552</td>\n",
                            "    </tr>\n",
                            "    <tr>\n",
                            "      <th>5</th>\n",
                            "      <td>31</td>\n",
                            "      <td>1</td>\n",
                            "      <td>25.74</td>\n",
                            "      <td>0</td>\n",
                            "      <td>0</td>\n",
                            "      <td>1</td>\n",
                            "      <td>3756.6216</td>\n",
                            "    </tr>\n",
                            "  </tbody>\n",
                            "</table>\n",
                            "</div>"
                        ],
                        "text/plain": [
                            "   age  sex    bmi  children  smoker  region     charges\n",
                            "0   19    1  27.90         0       1       2  16884.9240\n",
                            "1   18    0  33.77         1       0       1   1725.5523\n",
                            "2   28    0  33.00         3       0       1   4449.4620\n",
                            "4   32    0  28.88         0       0       0   3866.8552\n",
                            "5   31    1  25.74         0       0       1   3756.6216"
                        ]
                    },
                    "execution_count": 15,
                    "metadata": {},
                    "output_type": "execute_result"
                }
            ],
            "source": [
                "df_noinflu.head()"
            ]
        },
        {
            "cell_type": "code",
            "execution_count": 16,
            "metadata": {},
            "outputs": [],
            "source": [
                "# Escalamos las variables en \n",
                "#total_variables = ['age','sex','bmi','children', 'smoker', 'region', 'charges']\n",
                "                   \n",
                "#scaler = MinMaxScaler()\n",
                "#var_total_scal = scaler.fit_transform(df_noinflu[total_variables])\n",
                "#df_escalado = pd.DataFrame(var_total_scal,index =df_noinflu.index,columns = total_variables)\n",
                "#df_escalado.head()"
            ]
        },
        {
            "cell_type": "code",
            "execution_count": 17,
            "metadata": {},
            "outputs": [],
            "source": [
                "# Partición de los datos\n",
                "X = df_noinflu.drop(['charges'], axis=1)\n",
                "y = df_noinflu['charges']\n",
                "\n",
                "# Separamos los datos en entrenamiento y testeo\n",
                "\n",
                "X_train, X_test, y_train, y_test = train_test_split(X,y, test_size=0.2, random_state=42)"
            ]
        },
        {
            "cell_type": "code",
            "execution_count": 18,
            "metadata": {},
            "outputs": [
                {
                    "data": {
                        "text/html": [
                            "<div>\n",
                            "<style scoped>\n",
                            "    .dataframe tbody tr th:only-of-type {\n",
                            "        vertical-align: middle;\n",
                            "    }\n",
                            "\n",
                            "    .dataframe tbody tr th {\n",
                            "        vertical-align: top;\n",
                            "    }\n",
                            "\n",
                            "    .dataframe thead th {\n",
                            "        text-align: right;\n",
                            "    }\n",
                            "</style>\n",
                            "<table border=\"1\" class=\"dataframe\">\n",
                            "  <thead>\n",
                            "    <tr style=\"text-align: right;\">\n",
                            "      <th></th>\n",
                            "      <th>Feature</th>\n",
                            "      <th>Importance</th>\n",
                            "    </tr>\n",
                            "  </thead>\n",
                            "  <tbody>\n",
                            "    <tr>\n",
                            "      <th>4</th>\n",
                            "      <td>smoker</td>\n",
                            "      <td>95.520988</td>\n",
                            "    </tr>\n",
                            "    <tr>\n",
                            "      <th>2</th>\n",
                            "      <td>bmi</td>\n",
                            "      <td>1.718707</td>\n",
                            "    </tr>\n",
                            "    <tr>\n",
                            "      <th>0</th>\n",
                            "      <td>age</td>\n",
                            "      <td>1.319406</td>\n",
                            "    </tr>\n",
                            "    <tr>\n",
                            "      <th>3</th>\n",
                            "      <td>children</td>\n",
                            "      <td>0.567940</td>\n",
                            "    </tr>\n",
                            "    <tr>\n",
                            "      <th>5</th>\n",
                            "      <td>region</td>\n",
                            "      <td>0.464795</td>\n",
                            "    </tr>\n",
                            "    <tr>\n",
                            "      <th>1</th>\n",
                            "      <td>sex</td>\n",
                            "      <td>0.408163</td>\n",
                            "    </tr>\n",
                            "  </tbody>\n",
                            "</table>\n",
                            "</div>"
                        ],
                        "text/plain": [
                            "    Feature  Importance\n",
                            "4    smoker   95.520988\n",
                            "2       bmi    1.718707\n",
                            "0       age    1.319406\n",
                            "3  children    0.567940\n",
                            "5    region    0.464795\n",
                            "1       sex    0.408163"
                        ]
                    },
                    "execution_count": 18,
                    "metadata": {},
                    "output_type": "execute_result"
                }
            ],
            "source": [
                "# Selección de características, utilizamos XGBoost\n",
                "\n",
                "xgb_model = xgb.XGBRegressor(objective='reg:squarederror', random_state=42).fit(X_train, y_train)\n",
                "df_imp= pd.DataFrame({'Feature':X_train.columns, 'Importance':xgb_model.feature_importances_*100})\n",
                "df_imp = df_imp.sort_values(by='Importance', ascending=False)\n",
                "df_imp"
            ]
        },
        {
            "cell_type": "code",
            "execution_count": 19,
            "metadata": {},
            "outputs": [],
            "source": [
                "# Seleccionamos las características que tienen una impportancia > 1%\n",
                "X_train_imp = X_train[df_imp[df_imp.Importance>1]['Feature'].values]\n",
                "X_test_imp = X_test[df_imp[df_imp.Importance>1]['Feature'].values]"
            ]
        },
        {
            "cell_type": "code",
            "execution_count": 20,
            "metadata": {},
            "outputs": [
                {
                    "data": {
                        "text/html": [
                            "<div>\n",
                            "<style scoped>\n",
                            "    .dataframe tbody tr th:only-of-type {\n",
                            "        vertical-align: middle;\n",
                            "    }\n",
                            "\n",
                            "    .dataframe tbody tr th {\n",
                            "        vertical-align: top;\n",
                            "    }\n",
                            "\n",
                            "    .dataframe thead th {\n",
                            "        text-align: right;\n",
                            "    }\n",
                            "</style>\n",
                            "<table border=\"1\" class=\"dataframe\">\n",
                            "  <thead>\n",
                            "    <tr style=\"text-align: right;\">\n",
                            "      <th></th>\n",
                            "      <th>smoker</th>\n",
                            "      <th>bmi</th>\n",
                            "      <th>age</th>\n",
                            "    </tr>\n",
                            "  </thead>\n",
                            "  <tbody>\n",
                            "    <tr>\n",
                            "      <th>smoker</th>\n",
                            "      <td>1.000000</td>\n",
                            "      <td>0.019679</td>\n",
                            "      <td>-0.015813</td>\n",
                            "    </tr>\n",
                            "    <tr>\n",
                            "      <th>bmi</th>\n",
                            "      <td>0.019679</td>\n",
                            "      <td>1.000000</td>\n",
                            "      <td>0.110495</td>\n",
                            "    </tr>\n",
                            "    <tr>\n",
                            "      <th>age</th>\n",
                            "      <td>-0.015813</td>\n",
                            "      <td>0.110495</td>\n",
                            "      <td>1.000000</td>\n",
                            "    </tr>\n",
                            "  </tbody>\n",
                            "</table>\n",
                            "</div>"
                        ],
                        "text/plain": [
                            "          smoker       bmi       age\n",
                            "smoker  1.000000  0.019679 -0.015813\n",
                            "bmi     0.019679  1.000000  0.110495\n",
                            "age    -0.015813  0.110495  1.000000"
                        ]
                    },
                    "execution_count": 20,
                    "metadata": {},
                    "output_type": "execute_result"
                }
            ],
            "source": [
                "# VIF\n",
                "X_train_imp.corr()"
            ]
        },
        {
            "cell_type": "code",
            "execution_count": 21,
            "metadata": {},
            "outputs": [
                {
                    "data": {
                        "text/plain": [
                            "Index(['smoker'], dtype='object')"
                        ]
                    },
                    "execution_count": 21,
                    "metadata": {},
                    "output_type": "execute_result"
                }
            ],
            "source": [
                "# Escalado de variables\n",
                "# Identificar las variables binarias\n",
                "binary_cols = X_train_imp[(X_train_imp == 0)|(X_train_imp == 1)].dropna(axis=1).columns\n",
                "binary_cols"
            ]
        },
        {
            "cell_type": "code",
            "execution_count": 22,
            "metadata": {},
            "outputs": [],
            "source": [
                "# Seleccionamos las columnas que no son binarias\n",
                "X_train_nobi = X_train_imp.drop(binary_cols, axis=1)\n",
                "X_test_nobi= X_test_imp.drop(binary_cols, axis=1)\n",
                "\n",
                "#Instanciamos al escalador y lo ajustamos con los datos de entrenamient\n",
                "scaler = MinMaxScaler().fit(X_train_nobi)"
            ]
        },
        {
            "cell_type": "code",
            "execution_count": 23,
            "metadata": {},
            "outputs": [],
            "source": [
                "# Trasnformamos los datos con el escalador ajustado\n",
                "X_train_nobi_escal = scaler.transform(X_train_nobi)\n",
                "X_test_nobi_escal = scaler.transform(X_test_nobi)"
            ]
        },
        {
            "cell_type": "code",
            "execution_count": 27,
            "metadata": {},
            "outputs": [
                {
                    "data": {
                        "text/plain": [
                            "bmi    0\n",
                            "age    0\n",
                            "dtype: int64"
                        ]
                    },
                    "execution_count": 27,
                    "metadata": {},
                    "output_type": "execute_result"
                }
            ],
            "source": [
                "# Pasamos las variables X no binarias a dataframe y unimos las columnas binarias con las no binarias\n",
                "X_train_nobi_escal = pd.DataFrame(X_train_nobi_escal, index=X_train_nobi.index, columns=X_train_nobi.columns)\n",
                "X_test_nobi_escal = pd.DataFrame(X_test_nobi_escal, index=X_test_nobi.index, columns=X_test_nobi.columns)\n",
                "\n",
                "X_train_bin = X_train[binary_cols].loc[X_train_nobi_escal.index]\n",
                "X_test_bin = X_test[binary_cols].loc[X_test_nobi_escal.index]"
            ]
        },
        {
            "cell_type": "code",
            "execution_count": 29,
            "metadata": {},
            "outputs": [
                {
                    "data": {
                        "text/html": [
                            "<div>\n",
                            "<style scoped>\n",
                            "    .dataframe tbody tr th:only-of-type {\n",
                            "        vertical-align: middle;\n",
                            "    }\n",
                            "\n",
                            "    .dataframe tbody tr th {\n",
                            "        vertical-align: top;\n",
                            "    }\n",
                            "\n",
                            "    .dataframe thead th {\n",
                            "        text-align: right;\n",
                            "    }\n",
                            "</style>\n",
                            "<table border=\"1\" class=\"dataframe\">\n",
                            "  <thead>\n",
                            "    <tr style=\"text-align: right;\">\n",
                            "      <th></th>\n",
                            "      <th>bmi</th>\n",
                            "      <th>age</th>\n",
                            "      <th>smoker</th>\n",
                            "    </tr>\n",
                            "  </thead>\n",
                            "  <tbody>\n",
                            "    <tr>\n",
                            "      <th>984</th>\n",
                            "      <td>0.371872</td>\n",
                            "      <td>0.043478</td>\n",
                            "      <td>0</td>\n",
                            "    </tr>\n",
                            "    <tr>\n",
                            "      <th>746</th>\n",
                            "      <td>0.284776</td>\n",
                            "      <td>0.347826</td>\n",
                            "      <td>0</td>\n",
                            "    </tr>\n",
                            "    <tr>\n",
                            "      <th>570</th>\n",
                            "      <td>0.343492</td>\n",
                            "      <td>0.282609</td>\n",
                            "      <td>0</td>\n",
                            "    </tr>\n",
                            "    <tr>\n",
                            "      <th>442</th>\n",
                            "      <td>0.732420</td>\n",
                            "      <td>0.000000</td>\n",
                            "      <td>0</td>\n",
                            "    </tr>\n",
                            "    <tr>\n",
                            "      <th>576</th>\n",
                            "      <td>0.280302</td>\n",
                            "      <td>0.086957</td>\n",
                            "      <td>0</td>\n",
                            "    </tr>\n",
                            "    <tr>\n",
                            "      <th>...</th>\n",
                            "      <td>...</td>\n",
                            "      <td>...</td>\n",
                            "      <td>...</td>\n",
                            "    </tr>\n",
                            "    <tr>\n",
                            "      <th>1125</th>\n",
                            "      <td>0.231092</td>\n",
                            "      <td>0.978261</td>\n",
                            "      <td>0</td>\n",
                            "    </tr>\n",
                            "    <tr>\n",
                            "      <th>1182</th>\n",
                            "      <td>0.377045</td>\n",
                            "      <td>0.152174</td>\n",
                            "      <td>0</td>\n",
                            "    </tr>\n",
                            "    <tr>\n",
                            "      <th>1219</th>\n",
                            "      <td>0.374528</td>\n",
                            "      <td>0.434783</td>\n",
                            "      <td>0</td>\n",
                            "    </tr>\n",
                            "    <tr>\n",
                            "      <th>922</th>\n",
                            "      <td>0.396617</td>\n",
                            "      <td>0.434783</td>\n",
                            "      <td>0</td>\n",
                            "    </tr>\n",
                            "    <tr>\n",
                            "      <th>1215</th>\n",
                            "      <td>0.624214</td>\n",
                            "      <td>0.000000</td>\n",
                            "      <td>0</td>\n",
                            "    </tr>\n",
                            "  </tbody>\n",
                            "</table>\n",
                            "<p>992 rows × 3 columns</p>\n",
                            "</div>"
                        ],
                        "text/plain": [
                            "           bmi       age  smoker\n",
                            "984   0.371872  0.043478       0\n",
                            "746   0.284776  0.347826       0\n",
                            "570   0.343492  0.282609       0\n",
                            "442   0.732420  0.000000       0\n",
                            "576   0.280302  0.086957       0\n",
                            "...        ...       ...     ...\n",
                            "1125  0.231092  0.978261       0\n",
                            "1182  0.377045  0.152174       0\n",
                            "1219  0.374528  0.434783       0\n",
                            "922   0.396617  0.434783       0\n",
                            "1215  0.624214  0.000000       0\n",
                            "\n",
                            "[992 rows x 3 columns]"
                        ]
                    },
                    "execution_count": 29,
                    "metadata": {},
                    "output_type": "execute_result"
                }
            ],
            "source": [
                "X_train_bin = X_train[binary_cols].loc[X_train_nobi_escal.index]\n",
                "X_test_bin = X_test[binary_cols].loc[X_test_nobi_escal.index]\n",
                "\n",
                "X_train_escal = pd.concat([X_train_nobi_escal, X_train[binary_cols]], axis=1)\n",
                "X_test_escal = pd.concat([X_test_nobi_escal, X_test[binary_cols]], axis=1)\n",
                "\n",
                "X_train_escal"
            ]
        },
        {
            "cell_type": "code",
            "execution_count": 30,
            "metadata": {},
            "outputs": [
                {
                    "name": "stdout",
                    "output_type": "stream",
                    "text": [
                        "                            OLS Regression Results                            \n",
                        "==============================================================================\n",
                        "Dep. Variable:                charges   R-squared:                       0.794\n",
                        "Model:                            OLS   Adj. R-squared:                  0.793\n",
                        "Method:                 Least Squares   F-statistic:                     1269.\n",
                        "Date:                Thu, 06 Feb 2025   Prob (F-statistic):               0.00\n",
                        "Time:                        21:00:04   Log-Likelihood:                -9931.1\n",
                        "No. Observations:                 992   AIC:                         1.987e+04\n",
                        "Df Residuals:                     988   BIC:                         1.989e+04\n",
                        "Df Model:                           3                                         \n",
                        "Covariance Type:            nonrobust                                         \n",
                        "==============================================================================\n",
                        "                 coef    std err          t      P>|t|      [0.025      0.975]\n",
                        "------------------------------------------------------------------------------\n",
                        "const      -1533.4813    492.544     -3.113      0.002   -2500.034    -566.929\n",
                        "bmi         1.056e+04   1026.661     10.289      0.000    8549.129    1.26e+04\n",
                        "age         1.186e+04    565.348     20.986      0.000    1.08e+04     1.3e+04\n",
                        "smoker      2.439e+04    429.957     56.722      0.000    2.35e+04    2.52e+04\n",
                        "==============================================================================\n",
                        "Omnibus:                      180.347   Durbin-Watson:                   1.961\n",
                        "Prob(Omnibus):                  0.000   Jarque-Bera (JB):              465.561\n",
                        "Skew:                           0.952   Prob(JB):                    8.03e-102\n",
                        "Kurtosis:                       5.764   Cond. No.                         7.65\n",
                        "==============================================================================\n",
                        "\n",
                        "Notes:\n",
                        "[1] Standard Errors assume that the covariance matrix of the errors is correctly specified.\n"
                    ]
                }
            ],
            "source": [
                "# Creamos el modelo de regresión líneal y lo ajustamos a los datos\n",
                "X_train_escal = sm.add_constant(X_train_escal)\n",
                "X_test_escal = sm.add_constant(X_test_escal)\n",
                "\n",
                "model = sm.OLS(y_train, X_train_escal)\n",
                "results = model.fit()\n",
                "print(results.summary())"
            ]
        },
        {
            "cell_type": "markdown",
            "metadata": {},
            "source": [
                "Del resumen visto antes vemos lo siguiente:\n",
                "- SI todas las variables son 0, el coste sería negativo\n",
                "- Cada unidad que aumenta en el BMI aumenta charges en 10,56 unidades monetarias\n",
                "- Cada año adicional de edad aumenta charges en 11,86 unidades monetarias\n",
                "- Ser fumador incrementa el coste en 24,39€"
            ]
        },
        {
            "cell_type": "code",
            "execution_count": 35,
            "metadata": {},
            "outputs": [
                {
                    "name": "stdout",
                    "output_type": "stream",
                    "text": [
                        "                            OLS Regression Results                            \n",
                        "==============================================================================\n",
                        "Dep. Variable:                charges   R-squared:                       0.777\n",
                        "Model:                            OLS   Adj. R-squared:                  0.776\n",
                        "Method:                 Least Squares   F-statistic:                     1144.\n",
                        "Date:                Thu, 06 Feb 2025   Prob (F-statistic):          7.05e-321\n",
                        "Time:                        21:08:21   Log-Likelihood:                -574.05\n",
                        "No. Observations:                 992   AIC:                             1156.\n",
                        "Df Residuals:                     988   BIC:                             1176.\n",
                        "Df Model:                           3                                         \n",
                        "Covariance Type:            nonrobust                                         \n",
                        "==============================================================================\n",
                        "                 coef    std err          t      P>|t|      [0.025      0.975]\n",
                        "------------------------------------------------------------------------------\n",
                        "const          7.8570      0.039    199.199      0.000       7.780       7.934\n",
                        "bmi            0.3909      0.082      4.755      0.000       0.230       0.552\n",
                        "age            1.6281      0.045     35.961      0.000       1.539       1.717\n",
                        "smoker         1.5797      0.034     45.880      0.000       1.512       1.647\n",
                        "==============================================================================\n",
                        "Omnibus:                      235.318   Durbin-Watson:                   2.068\n",
                        "Prob(Omnibus):                  0.000   Jarque-Bera (JB):              705.510\n",
                        "Skew:                           1.171   Prob(JB):                    6.32e-154\n",
                        "Kurtosis:                       6.403   Cond. No.                         7.65\n",
                        "==============================================================================\n",
                        "\n",
                        "Notes:\n",
                        "[1] Standard Errors assume that the covariance matrix of the errors is correctly specified.\n"
                    ]
                }
            ],
            "source": [
                "# Probampos a pasar la target a escala logaritmica, dado que no tiene sentido que si todas las variables fueran 0 el coste fuera negativo\n",
                "\n",
                "y_train_log = np.log(y_train)\n",
                "y_test_log = np.log(y_test)\n",
                "\n",
                "model_log = sm.OLS(y_train_log, X_train_escal).fit()\n",
                "print(model_log.summary())"
            ]
        },
        {
            "cell_type": "code",
            "execution_count": 36,
            "metadata": {},
            "outputs": [
                {
                    "data": {
                        "text/plain": [
                            "448      7917.052160\n",
                            "279      8379.428831\n",
                            "357      9790.433408\n",
                            "670      5919.716310\n",
                            "111     11815.403354\n",
                            "            ...     \n",
                            "699      6388.598575\n",
                            "1054     2162.742639\n",
                            "192      2908.119527\n",
                            "33      13468.210371\n",
                            "561     12437.677254\n",
                            "Length: 248, dtype: float64"
                        ]
                    },
                    "execution_count": 36,
                    "metadata": {},
                    "output_type": "execute_result"
                }
            ],
            "source": [
                "y_pred = results.predict(X_test_escal)\n",
                "y_pred\n"
            ]
        },
        {
            "cell_type": "code",
            "execution_count": 38,
            "metadata": {},
            "outputs": [
                {
                    "name": "stdout",
                    "output_type": "stream",
                    "text": [
                        "MAE: 3779.3842851206587\n",
                        "MSE: 32558493.051759597\n",
                        "R² Score: 0.7910695688325973\n"
                    ]
                }
            ],
            "source": [
                "# Métricas de evaluación del modelo\n",
                "mae = mean_absolute_error(y_test, y_pred)\n",
                "mse = mean_squared_error(y_test, y_pred)\n",
                "r2 = r2_score(y_test, y_pred)\n",
                "\n",
                "print(f\"MAE: {mae}\") \n",
                "print(f\"MSE: {mse}\")   \n",
                "print(f\"R² Score: {r2}\") "
            ]
        }
    ],
    "metadata": {
        "kernelspec": {
            "display_name": "Python 3",
            "language": "python",
            "name": "python3"
        },
        "language_info": {
            "codemirror_mode": {
                "name": "ipython",
                "version": 3
            },
            "file_extension": ".py",
            "mimetype": "text/x-python",
            "name": "python",
            "nbconvert_exporter": "python",
            "pygments_lexer": "ipython3",
            "version": "3.10.12"
        },
        "orig_nbformat": 4
    },
    "nbformat": 4,
    "nbformat_minor": 2
}
